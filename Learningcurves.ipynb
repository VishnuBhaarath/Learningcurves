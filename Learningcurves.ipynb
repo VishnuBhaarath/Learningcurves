{
  "nbformat": 4,
  "nbformat_minor": 0,
  "metadata": {
    "colab": {
      "name": "Learningcurves.ipynb",
      "provenance": [],
      "collapsed_sections": [],
      "toc_visible": true,
      "authorship_tag": "ABX9TyPjjobCtJiqXNgCNce3mXhb",
      "include_colab_link": true
    },
    "kernelspec": {
      "name": "python3",
      "display_name": "Python 3"
    }
  },
  "cells": [
    {
      "cell_type": "markdown",
      "metadata": {
        "id": "view-in-github",
        "colab_type": "text"
      },
      "source": [
        "<a href=\"https://colab.research.google.com/github/VishnuBhaarath/Learningcurves/blob/master/Learningcurves.ipynb\" target=\"_parent\"><img src=\"https://colab.research.google.com/assets/colab-badge.svg\" alt=\"Open In Colab\"/></a>"
      ]
    },
    {
      "cell_type": "code",
      "metadata": {
        "id": "_JYNGHJQEuNx",
        "colab_type": "code",
        "colab": {}
      },
      "source": [
        "import pandas as pd\n",
        "import numpy as np\n"
      ],
      "execution_count": 0,
      "outputs": []
    },
    {
      "cell_type": "code",
      "metadata": {
        "id": "rSqlIHYMLL7n",
        "colab_type": "code",
        "colab": {}
      },
      "source": [
        "a=7"
      ],
      "execution_count": 0,
      "outputs": []
    },
    {
      "cell_type": "code",
      "metadata": {
        "id": "1BaHdhGXHFti",
        "colab_type": "code",
        "colab": {}
      },
      "source": [
        "from scipy import io\n",
        "loaded = io.loadmat('ex5data1.mat')"
      ],
      "execution_count": 0,
      "outputs": []
    },
    {
      "cell_type": "code",
      "metadata": {
        "id": "MkoldeNsHwUY",
        "colab_type": "code",
        "outputId": "4e95191e-1437-4592-8f72-09472bf9f150",
        "colab": {
          "base_uri": "https://localhost:8080/",
          "height": 370
        }
      },
      "source": [
        "loaded['Xtest']"
      ],
      "execution_count": 0,
      "outputs": [
        {
          "output_type": "execute_result",
          "data": {
            "text/plain": [
              "array([[-33.31800399],\n",
              "       [-37.91216403],\n",
              "       [-51.20693795],\n",
              "       [ -6.13259585],\n",
              "       [ 21.26118327],\n",
              "       [-40.31952949],\n",
              "       [-14.54153167],\n",
              "       [ 32.55976024],\n",
              "       [ 13.39343255],\n",
              "       [ 44.20988595],\n",
              "       [ -1.14267768],\n",
              "       [-12.76686065],\n",
              "       [ 34.05450539],\n",
              "       [ 39.22350028],\n",
              "       [  1.97449674],\n",
              "       [ 29.6217551 ],\n",
              "       [-23.66962971],\n",
              "       [ -9.01180139],\n",
              "       [-55.94057091],\n",
              "       [-35.70859752],\n",
              "       [  9.51020533]])"
            ]
          },
          "metadata": {
            "tags": []
          },
          "execution_count": 21
        }
      ]
    },
    {
      "cell_type": "code",
      "metadata": {
        "id": "hcMtLPoRH7xW",
        "colab_type": "code",
        "colab": {}
      },
      "source": [
        "X=loaded['X']"
      ],
      "execution_count": 0,
      "outputs": []
    },
    {
      "cell_type": "code",
      "metadata": {
        "id": "zBnwDEaCs9jj",
        "colab_type": "code",
        "outputId": "0806785a-9826-4a44-b395-074f69d64f09",
        "colab": {
          "base_uri": "https://localhost:8080/",
          "height": 34
        }
      },
      "source": [
        "X.shape"
      ],
      "execution_count": 0,
      "outputs": [
        {
          "output_type": "execute_result",
          "data": {
            "text/plain": [
              "(12, 1)"
            ]
          },
          "metadata": {
            "tags": []
          },
          "execution_count": 23
        }
      ]
    },
    {
      "cell_type": "code",
      "metadata": {
        "id": "FwnOlb2XKY8g",
        "colab_type": "code",
        "colab": {}
      },
      "source": [
        "y=loaded['y']"
      ],
      "execution_count": 0,
      "outputs": []
    },
    {
      "cell_type": "code",
      "metadata": {
        "id": "Op3XBowtKAoz",
        "colab_type": "code",
        "outputId": "fb59022b-8d9c-4b59-9ab3-3779e062a125",
        "colab": {
          "base_uri": "https://localhost:8080/",
          "height": 218
        }
      },
      "source": [
        "y"
      ],
      "execution_count": 0,
      "outputs": [
        {
          "output_type": "execute_result",
          "data": {
            "text/plain": [
              "array([[ 2.13431051],\n",
              "       [ 1.17325668],\n",
              "       [34.35910918],\n",
              "       [36.83795516],\n",
              "       [ 2.80896507],\n",
              "       [ 2.12107248],\n",
              "       [14.71026831],\n",
              "       [ 2.61418439],\n",
              "       [ 3.74017167],\n",
              "       [ 3.73169131],\n",
              "       [ 7.62765885],\n",
              "       [22.7524283 ]])"
            ]
          },
          "metadata": {
            "tags": []
          },
          "execution_count": 25
        }
      ]
    },
    {
      "cell_type": "code",
      "metadata": {
        "id": "H5HkCTqBUgeX",
        "colab_type": "code",
        "outputId": "12ecff6c-6387-4061-c858-fa5d5dfe688d",
        "colab": {
          "base_uri": "https://localhost:8080/",
          "height": 265
        }
      },
      "source": [
        "plt.scatter(X, y, label= \"stars\", color= \"green\", marker= \"*\", s=30);"
      ],
      "execution_count": 0,
      "outputs": [
        {
          "output_type": "display_data",
          "data": {
            "image/png": "[encoded data removed]",
            "text/plain": [
              "<Figure size 432x288 with 1 Axes>"
            ]
          },
          "metadata": {
            "tags": []
          }
        }
      ]
    },
    {
      "cell_type": "code",
      "metadata": {
        "id": "Oc448ixjs7j3",
        "colab_type": "code",
        "colab": {}
      },
      "source": [
        "f=np.ones([12, 1], dtype = int) "
      ],
      "execution_count": 0,
      "outputs": []
    },
    {
      "cell_type": "code",
      "metadata": {
        "id": "RAMt2JPytCCA",
        "colab_type": "code",
        "colab": {}
      },
      "source": [
        "X = np.column_stack((f, X)) "
      ],
      "execution_count": 0,
      "outputs": []
    },
    {
      "cell_type": "code",
      "metadata": {
        "id": "4lA0EslGtH1J",
        "colab_type": "code",
        "outputId": "77f56ddb-1aff-43ba-8a77-6021abb15d8b",
        "colab": {
          "base_uri": "https://localhost:8080/",
          "height": 218
        }
      },
      "source": [
        "X"
      ],
      "execution_count": 0,
      "outputs": [
        {
          "output_type": "execute_result",
          "data": {
            "text/plain": [
              "array([[  1.        , -15.93675813],\n",
              "       [  1.        , -29.15297922],\n",
              "       [  1.        ,  36.18954863],\n",
              "       [  1.        ,  37.49218733],\n",
              "       [  1.        , -48.05882945],\n",
              "       [  1.        ,  -8.94145794],\n",
              "       [  1.        ,  15.30779289],\n",
              "       [  1.        , -34.70626581],\n",
              "       [  1.        ,   1.38915437],\n",
              "       [  1.        , -44.38375985],\n",
              "       [  1.        ,   7.01350208],\n",
              "       [  1.        ,  22.76274892]])"
            ]
          },
          "metadata": {
            "tags": []
          },
          "execution_count": 13
        }
      ]
    },
    {
      "cell_type": "code",
      "metadata": {
        "id": "Hlkj16xlKsWT",
        "colab_type": "code",
        "colab": {}
      },
      "source": [
        "import seaborn as sns\n",
        "import matplotlib.pyplot as plt"
      ],
      "execution_count": 0,
      "outputs": []
    },
    {
      "cell_type": "code",
      "metadata": {
        "id": "nvyANSJTsSq0",
        "colab_type": "code",
        "colab": {}
      },
      "source": [
        "theta0=1;\n",
        "theta1=1;\n",
        "theta=[[theta0],[theta1]];"
      ],
      "execution_count": 0,
      "outputs": []
    },
    {
      "cell_type": "code",
      "metadata": {
        "id": "583EUq9CtMui",
        "colab_type": "code",
        "outputId": "beba1638-7239-47d0-c3b6-b4ebadf045a4",
        "colab": {
          "base_uri": "https://localhost:8080/",
          "height": 34
        }
      },
      "source": [
        "theta"
      ],
      "execution_count": 0,
      "outputs": [
        {
          "output_type": "execute_result",
          "data": {
            "text/plain": [
              "[[1], [1]]"
            ]
          },
          "metadata": {
            "tags": []
          },
          "execution_count": 15
        }
      ]
    },
    {
      "cell_type": "code",
      "metadata": {
        "id": "AltiGVJUYbZV",
        "colab_type": "code",
        "colab": {}
      },
      "source": [
        " h=np.dot(X,theta)\n",
        " t=np.subtract(h,y)"
      ],
      "execution_count": 0,
      "outputs": []
    },
    {
      "cell_type": "code",
      "metadata": {
        "id": "vfhXBq3-gy2b",
        "colab_type": "code",
        "outputId": "2353f691-cade-4e75-cb7f-72018c55a610",
        "colab": {
          "base_uri": "https://localhost:8080/",
          "height": 34
        }
      },
      "source": [
        "np.sum(np.square(t))/24"
      ],
      "execution_count": 0,
      "outputs": [
        {
          "output_type": "execute_result",
          "data": {
            "text/plain": [
              "303.9515255535976"
            ]
          },
          "metadata": {
            "tags": []
          },
          "execution_count": 18
        }
      ]
    },
    {
      "cell_type": "code",
      "metadata": {
        "id": "o_OSvIsQWNT-",
        "colab_type": "code",
        "outputId": "73a88d2f-7091-4ada-8996-b73717cadfc9",
        "colab": {
          "base_uri": "https://localhost:8080/",
          "height": 34
        }
      },
      "source": [
        "np.sum(np.square(np.subtract(np.dot(X,theta),y)))/24"
      ],
      "execution_count": 0,
      "outputs": [
        {
          "output_type": "execute_result",
          "data": {
            "text/plain": [
              "303.9515255535976"
            ]
          },
          "metadata": {
            "tags": []
          },
          "execution_count": 19
        }
      ]
    },
    {
      "cell_type": "code",
      "metadata": {
        "id": "JAS701YRDpEU",
        "colab_type": "code",
        "colab": {}
      },
      "source": [
        "from sklearn.linear_model import LinearRegression"
      ],
      "execution_count": 0,
      "outputs": []
    },
    {
      "cell_type": "code",
      "metadata": {
        "id": "HlM3g0IeESJM",
        "colab_type": "code",
        "colab": {}
      },
      "source": [
        "linear_regressor = LinearRegression()  # create object for the class\n",
        "linear_regressor.fit(X, y) \n",
        "Y_pred = linear_regressor.predict(X)  # make predictions"
      ],
      "execution_count": 0,
      "outputs": []
    },
    {
      "cell_type": "code",
      "metadata": {
        "id": "eDgFm04OGtGe",
        "colab_type": "code",
        "outputId": "7f443ecc-984c-4b41-8fbd-b670e33a1f57",
        "colab": {
          "base_uri": "https://localhost:8080/",
          "height": 265
        }
      },
      "source": [
        "plt.scatter(X, y)\n",
        "plt.plot(X, Y_pred, color='red')\n",
        "plt.show()"
      ],
      "execution_count": 0,
      "outputs": [
        {
          "output_type": "display_data",
          "data": {
            "image/png": "[encoded data removed]",
            "text/plain": [
              "<Figure size 432x288 with 1 Axes>"
            ]
          },
          "metadata": {
            "tags": []
          }
        }
      ]
    },
    {
      "cell_type": "code",
      "metadata": {
        "id": "iZVEhc6iHBoE",
        "colab_type": "code",
        "colab": {}
      },
      "source": [
        "train_sizes = [1, 3, 5, 8]"
      ],
      "execution_count": 0,
      "outputs": []
    },
    {
      "cell_type": "code",
      "metadata": {
        "id": "ei6tRyHnJO4_",
        "colab_type": "code",
        "colab": {}
      },
      "source": [
        "from sklearn.linear_model import LinearRegression\n",
        "from sklearn.model_selection import learning_curve\n",
        "features = 'X'\n",
        "target = 'y'\n",
        "train_sizes, train_scores, validation_scores = learning_curve(\n",
        "estimator = LinearRegression(),\n",
        "X =loaded[features],\n",
        "y = loaded[target], train_sizes = train_sizes, cv = 5,\n",
        "scoring = 'neg_mean_squared_error')"
      ],
      "execution_count": 0,
      "outputs": []
    },
    {
      "cell_type": "code",
      "metadata": {
        "id": "_tAolPmLJ6_8",
        "colab_type": "code",
        "outputId": "5ef76feb-8e28-45ee-fdc9-c4d07d2ce09e",
        "colab": {
          "base_uri": "https://localhost:8080/",
          "height": 269
        }
      },
      "source": [
        "print('Training scores:\\n\\n', train_scores)\n",
        "print('\\n', '-' * 70) # separator to make the output easy to read\n",
        "print('\\nValidation scores:\\n\\n', validation_scores)"
      ],
      "execution_count": 0,
      "outputs": [
        {
          "output_type": "stream",
          "text": [
            "Training scores:\n",
            "\n",
            " [[ -0.          -0.          -0.          -0.          -0.        ]\n",
            " [-58.51852597  -6.57319009  -6.57319009  -6.57319009  -6.57319009]\n",
            " [-44.30016454 -18.66313266 -26.30809762 -26.30809762 -26.30809762]\n",
            " [-51.37458791 -37.44764914 -54.06935734 -36.34571739 -36.34571739]]\n",
            "\n",
            " ----------------------------------------------------------------------\n",
            "\n",
            "Validation scores:\n",
            "\n",
            " [[-827.48611597 -401.59942884  -79.19249676   -2.56520775 -227.64182874]\n",
            " [ -28.04278722  -90.07729735  -55.33112235 -153.50697999  -59.88315011]\n",
            " [ -30.58988852  -70.50530841  -44.57844879 -120.37394254  -92.19887214]\n",
            " [ -54.97096682  -87.81397604  -19.22557536  -96.90507481  -50.76346675]]\n"
          ],
          "name": "stdout"
        }
      ]
    },
    {
      "cell_type": "code",
      "metadata": {
        "id": "tRhtv-2JKARP",
        "colab_type": "code",
        "outputId": "f0f0c317-bf1f-438c-a08e-54012d2de469",
        "colab": {
          "base_uri": "https://localhost:8080/",
          "height": 302
        }
      },
      "source": [
        "train_scores_mean = -train_scores.mean(axis = 1)\n",
        "validation_scores_mean = -validation_scores.mean(axis =1 )\n",
        "print('Mean training scores\\n\\n', pd.Series(train_scores_mean, index = train_sizes))\n",
        "print('\\n', '-' * 20) # separator\n",
        "print('\\nMean validation scores\\n\\n',pd.Series(validation_scores_mean, index = train_sizes))"
      ],
      "execution_count": 0,
      "outputs": [
        {
          "output_type": "stream",
          "text": [
            "Mean training scores\n",
            "\n",
            " 1    -0.000000\n",
            "3    16.962257\n",
            "5    28.377518\n",
            "8    43.116606\n",
            "dtype: float64\n",
            "\n",
            " --------------------\n",
            "\n",
            "Mean validation scores\n",
            "\n",
            " 1    307.697016\n",
            "3     77.368267\n",
            "5     71.649292\n",
            "8     61.935812\n",
            "dtype: float64\n"
          ],
          "name": "stdout"
        }
      ]
    },
    {
      "cell_type": "code",
      "metadata": {
        "id": "dytOUbS9KLBw",
        "colab_type": "code",
        "outputId": "d923a5b8-e80e-4d95-be26-4bc1a196241d",
        "colab": {
          "base_uri": "https://localhost:8080/",
          "height": 410
        }
      },
      "source": [
        "import matplotlib.pyplot as plt\n",
        "\n",
        "plt.style.use('seaborn')\n",
        "plt.plot(train_sizes, train_scores_mean, label = 'Training error')\n",
        "plt.plot(train_sizes, validation_scores_mean, label = 'Validation error')\n",
        "plt.ylabel('MSE', fontsize = 14)\n",
        "plt.xlabel('Training set size', fontsize = 14)\n",
        "plt.title('Learning curves for a linear regression model', fontsize = 18, y = 1.03)\n",
        "plt.legend()\n",
        "plt.ylim(0,100)"
      ],
      "execution_count": 0,
      "outputs": [
        {
          "output_type": "execute_result",
          "data": {
            "text/plain": [
              "(0, 100)"
            ]
          },
          "metadata": {
            "tags": []
          },
          "execution_count": 36
        },
        {
          "output_type": "display_data",
          "data": {
            "image/png": "[encoded data removed]",
            "text/plain": [
              "<Figure size 576x396 with 1 Axes>"
            ]
          },
          "metadata": {
            "tags": []
          }
        }
      ]
    }
  ]
}